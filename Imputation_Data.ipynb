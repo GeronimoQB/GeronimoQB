{
  "nbformat": 4,
  "nbformat_minor": 0,
  "metadata": {
    "colab": {
      "provenance": [],
      "authorship_tag": "ABX9TyMr/5MGZDT77Mm5OWUm3j1B",
      "include_colab_link": true
    },
    "kernelspec": {
      "name": "python3",
      "display_name": "Python 3"
    },
    "language_info": {
      "name": "python"
    }
  },
  "cells": [
    {
      "cell_type": "markdown",
      "metadata": {
        "id": "view-in-github",
        "colab_type": "text"
      },
      "source": [
        "<a href=\"https://colab.research.google.com/github/GeronimoQB/GeronimoQB/blob/main/Imputation_Data.ipynb\" target=\"_parent\"><img src=\"https://colab.research.google.com/assets/colab-badge.svg\" alt=\"Open In Colab\"/></a>"
      ]
    },
    {
      "cell_type": "markdown",
      "source": [
        "# **Imputation Data**\n",
        "La imputación es el proceso de reemplazar valores faltantes en un conjunto de datos con valores estimados o sustituidos. Los datos faltantes son un problema común en los análisis de datos, y manejarlos correctamente es crucial para obtener resultados precisos."
      ],
      "metadata": {
        "id": "SMSkOCT28tXY"
      }
    },
    {
      "cell_type": "markdown",
      "source": [
        "## **1. Mean/Median/Mode Imputation**\n",
        "\n",
        "* Imputación con Media: Reemplaza los valores faltantes con la media de la columna (adecuado para datos numéricos).\n",
        "* Imputación con Mediana: Reemplaza los valores faltantes con la mediana de la columna (robusto ante valores atípicos).\n",
        "* Imputación con Moda: Reemplaza los valores faltantes con la moda de la columna (adecuado para datos categóricos)."
      ],
      "metadata": {
        "id": "F-GOTizl9hhC"
      }
    },
    {
      "cell_type": "code",
      "source": [
        "import pandas as pd\n",
        "import numpy as np\n",
        "\n",
        "# DataFrame de ejemplo con valores faltantes\n",
        "df = pd.DataFrame({\n",
        "    'A': [1, 2, np.nan, 4, 5],\n",
        "    'B': ['X', 'Y', np.nan, 'Y', 'Z']\n",
        "})\n",
        "\n",
        "print(df)"
      ],
      "metadata": {
        "colab": {
          "base_uri": "https://localhost:8080/"
        },
        "id": "AxY0JgX3-MGU",
        "outputId": "907da0c2-599f-40a7-c797-8e50de46094c"
      },
      "execution_count": null,
      "outputs": [
        {
          "output_type": "stream",
          "name": "stdout",
          "text": [
            "     A    B\n",
            "0  1.0    X\n",
            "1  2.0    Y\n",
            "2  NaN  NaN\n",
            "3  4.0    Y\n",
            "4  5.0    Z\n"
          ]
        }
      ]
    },
    {
      "cell_type": "code",
      "execution_count": null,
      "metadata": {
        "colab": {
          "base_uri": "https://localhost:8080/"
        },
        "id": "LCoMvCIb8njH",
        "outputId": "f56c5d8e-b3e1-42a8-825e-21e231e3d36a"
      },
      "outputs": [
        {
          "output_type": "stream",
          "name": "stdout",
          "text": [
            "     A  B\n",
            "0  1.0  X\n",
            "1  2.0  Y\n",
            "2  3.0  Y\n",
            "3  4.0  Y\n",
            "4  5.0  Z\n"
          ]
        }
      ],
      "source": [
        "# Imputación con media para columna numérica\n",
        "df['A'].fillna(df['A'].mean(), inplace=True)\n",
        "\n",
        "# Imputación con moda para columna categórica\n",
        "df['B'].fillna(df['B'].mode()[0], inplace=True)\n",
        "\n",
        "print(df)"
      ]
    },
    {
      "cell_type": "markdown",
      "source": [
        "## **2. Forward Fill (ffill) and Backward Fill (bfill)**\n",
        "\n",
        "* Relleno hacia Adelante: Propaga el último valor válido hacia adelante para llenar los valores faltantes.\n",
        "* Relleno hacia Atrás: Usa el siguiente valor válido para llenar los valores faltantes.\n"
      ],
      "metadata": {
        "id": "sK-a7VPa9lZk"
      }
    },
    {
      "cell_type": "code",
      "source": [
        "# DataFrame de ejemplo con valores faltantes\n",
        "df = pd.DataFrame({\n",
        "    'A': [1, 2, np.nan, 4, 5],\n",
        "    'B': ['X', 'Y', np.nan, 'Y', 'Z']\n",
        "})\n",
        "\n",
        "print(df)"
      ],
      "metadata": {
        "colab": {
          "base_uri": "https://localhost:8080/"
        },
        "id": "dIchRPEb-cEC",
        "outputId": "9e354edd-dcce-4c1d-b4f7-333c7985cc05"
      },
      "execution_count": null,
      "outputs": [
        {
          "output_type": "stream",
          "name": "stdout",
          "text": [
            "     A    B\n",
            "0  1.0    X\n",
            "1  2.0    Y\n",
            "2  NaN  NaN\n",
            "3  4.0    Y\n",
            "4  5.0    Z\n"
          ]
        }
      ]
    },
    {
      "cell_type": "code",
      "source": [
        "# Forward fill\n",
        "df['A'].fillna(method='ffill', inplace=True)\n",
        "\n",
        "# Backward fill\n",
        "df['B'].fillna(method='bfill', inplace=True)\n",
        "print(df)"
      ],
      "metadata": {
        "colab": {
          "base_uri": "https://localhost:8080/"
        },
        "id": "gQh0ct_79oxH",
        "outputId": "201b7f6a-07f2-47ef-f63b-3fcbf40079a0"
      },
      "execution_count": null,
      "outputs": [
        {
          "output_type": "stream",
          "name": "stdout",
          "text": [
            "     A  B\n",
            "0  1.0  X\n",
            "1  2.0  Y\n",
            "2  2.0  Y\n",
            "3  4.0  Y\n",
            "4  5.0  Z\n"
          ]
        }
      ]
    },
    {
      "cell_type": "markdown",
      "source": [
        "## **3. Interpolation**\n",
        "\n",
        "La interpolación estima los valores faltantes basándose en otros valores del conjunto de datos. Los métodos comunes incluyen interpolación lineal, polinómica o basada en tiempo.\n"
      ],
      "metadata": {
        "id": "Ln1rcEPf-oB2"
      }
    },
    {
      "cell_type": "code",
      "source": [
        "# DataFrame de ejemplo con valores faltantes\n",
        "df = pd.DataFrame({\n",
        "    'A': [1, 2, np.nan, 4, 5],\n",
        "    'B': ['X', 'Y', np.nan, 'Y', 'Z']\n",
        "})\n",
        "\n",
        "print(df)"
      ],
      "metadata": {
        "colab": {
          "base_uri": "https://localhost:8080/"
        },
        "id": "qDI6U4xb-uLg",
        "outputId": "632e765e-5411-45c9-ad58-45fb0f7f5d5c"
      },
      "execution_count": null,
      "outputs": [
        {
          "output_type": "stream",
          "name": "stdout",
          "text": [
            "     A    B\n",
            "0  1.0    X\n",
            "1  2.0    Y\n",
            "2  NaN  NaN\n",
            "3  4.0    Y\n",
            "4  5.0    Z\n"
          ]
        }
      ]
    },
    {
      "cell_type": "code",
      "source": [
        "# Linear interpolation\n",
        "df['A'].interpolate(method='linear', inplace=True)\n",
        "\n",
        "# Backward fill\n",
        "df['B'].fillna(method='bfill', inplace=True)\n",
        "\n",
        "print(df)"
      ],
      "metadata": {
        "colab": {
          "base_uri": "https://localhost:8080/"
        },
        "id": "pxWjKfAq-Crj",
        "outputId": "a1c8a085-d616-4d2b-db16-762d775b4508"
      },
      "execution_count": null,
      "outputs": [
        {
          "output_type": "stream",
          "name": "stdout",
          "text": [
            "     A  B\n",
            "0  1.0  X\n",
            "1  2.0  Y\n",
            "2  3.0  Y\n",
            "3  4.0  Y\n",
            "4  5.0  Z\n"
          ]
        }
      ]
    },
    {
      "cell_type": "markdown",
      "source": [
        "## **4. K-Nearest Neighbors (KNN) Imputation**\n",
        "\n",
        "La imputación KNN reemplaza los valores faltantes con el promedio de los valores de los vecinos más cercanos. Es adecuado para datos numéricos."
      ],
      "metadata": {
        "id": "7sMzIx0-_obK"
      }
    },
    {
      "cell_type": "code",
      "source": [
        "from sklearn.impute import KNNImputer\n",
        "\n",
        "# Example DataFrame\n",
        "df = pd.DataFrame({\n",
        "    'A': [1, 2, np.nan, 4, 5],\n",
        "    'B': [5, np.nan, 7, 8, 9]\n",
        "})\n",
        "\n",
        "print(df)"
      ],
      "metadata": {
        "colab": {
          "base_uri": "https://localhost:8080/"
        },
        "id": "fOWOZnj3_tLy",
        "outputId": "50df9158-8f90-4275-d82f-824606712381"
      },
      "execution_count": null,
      "outputs": [
        {
          "output_type": "stream",
          "name": "stdout",
          "text": [
            "     A    B\n",
            "0  1.0  5.0\n",
            "1  2.0  NaN\n",
            "2  NaN  7.0\n",
            "3  4.0  8.0\n",
            "4  5.0  9.0\n"
          ]
        }
      ]
    },
    {
      "cell_type": "code",
      "source": [
        "# KNN Imputation\n",
        "imputer = KNNImputer(n_neighbors=2)\n",
        "df_imputed = pd.DataFrame(imputer.fit_transform(df), columns=df.columns)\n",
        "\n",
        "print(df_imputed)"
      ],
      "metadata": {
        "colab": {
          "base_uri": "https://localhost:8080/"
        },
        "id": "NlsS_jHN_oDY",
        "outputId": "43b1af0c-2c50-4fb7-bfd6-c90d794a5c2b"
      },
      "execution_count": null,
      "outputs": [
        {
          "output_type": "stream",
          "name": "stdout",
          "text": [
            "     A    B\n",
            "0  1.0  5.0\n",
            "1  2.0  6.5\n",
            "2  2.5  7.0\n",
            "3  4.0  8.0\n",
            "4  5.0  9.0\n"
          ]
        }
      ]
    },
    {
      "cell_type": "markdown",
      "source": [
        "## **5. Multivariate Imputation by Chained Equations (MICE)**\n",
        "\n",
        "MICE es una técnica avanzada que modela cada característica con valores faltantes como una función de otras características y utiliza esa estimación para la imputación."
      ],
      "metadata": {
        "id": "dIwDO7ct_51w"
      }
    },
    {
      "cell_type": "code",
      "source": [
        "from sklearn.experimental import enable_iterative_imputer\n",
        "from sklearn.impute import IterativeImputer\n",
        "\n",
        "# Example DataFrame\n",
        "df = pd.DataFrame({\n",
        "    'A': [1, 2, np.nan, 4, 5],\n",
        "    'B': [5, np.nan, 7, 8, 9]\n",
        "})\n",
        "\n",
        "print(df)"
      ],
      "metadata": {
        "colab": {
          "base_uri": "https://localhost:8080/"
        },
        "id": "ENRfgeDqADje",
        "outputId": "1849fa79-0ba9-45a3-85a6-f1275bddff5b"
      },
      "execution_count": null,
      "outputs": [
        {
          "output_type": "stream",
          "name": "stdout",
          "text": [
            "     A    B\n",
            "0  1.0  5.0\n",
            "1  2.0  NaN\n",
            "2  NaN  7.0\n",
            "3  4.0  8.0\n",
            "4  5.0  9.0\n"
          ]
        }
      ]
    },
    {
      "cell_type": "code",
      "source": [
        "# MICE Imputation\n",
        "imputer = IterativeImputer()\n",
        "df_imputed = pd.DataFrame(imputer.fit_transform(df), columns=df.columns)\n",
        "\n",
        "print(df_imputed)"
      ],
      "metadata": {
        "colab": {
          "base_uri": "https://localhost:8080/"
        },
        "id": "huA_z22LACu3",
        "outputId": "8defec73-15ec-4b42-c494-bc54e19903ea"
      },
      "execution_count": null,
      "outputs": [
        {
          "output_type": "stream",
          "name": "stdout",
          "text": [
            "          A         B\n",
            "0  1.000000  5.000000\n",
            "1  2.000000  6.000036\n",
            "2  2.999873  7.000000\n",
            "3  4.000000  8.000000\n",
            "4  5.000000  9.000000\n"
          ]
        }
      ]
    },
    {
      "cell_type": "markdown",
      "source": [
        "## **6. Using Predictive Models**\n",
        "\n",
        "Los modelos de aprendizaje automático (por ejemplo, regresión, árboles de decisión) pueden entrenarse para predecir los valores faltantes basándose en otras características del conjunto de datos."
      ],
      "metadata": {
        "id": "RI-sKXMAANhZ"
      }
    },
    {
      "cell_type": "code",
      "source": [
        "from sklearn.ensemble import RandomForestRegressor\n",
        "\n",
        "# Example DataFrame\n",
        "df = pd.DataFrame({\n",
        "    'A': [1, 2, np.nan, 4, 5],\n",
        "    'B': [5, 6, 7, 8, 9]\n",
        "})\n",
        "\n",
        "print(df)"
      ],
      "metadata": {
        "colab": {
          "base_uri": "https://localhost:8080/"
        },
        "id": "jFPv3VkwASTB",
        "outputId": "423466d4-af57-4171-80fc-27a6f9ac9f39"
      },
      "execution_count": null,
      "outputs": [
        {
          "output_type": "stream",
          "name": "stdout",
          "text": [
            "     A  B\n",
            "0  1.0  5\n",
            "1  2.0  6\n",
            "2  NaN  7\n",
            "3  4.0  8\n",
            "4  5.0  9\n"
          ]
        }
      ]
    },
    {
      "cell_type": "code",
      "source": [
        "# Train a model to predict missing values in column 'A'\n",
        "train_data = df.dropna()\n",
        "test_data = df[df['A'].isna()]\n",
        "\n",
        "X_train = train_data[['B']]\n",
        "y_train = train_data['A']\n",
        "\n",
        "model = RandomForestRegressor()\n",
        "model.fit(X_train, y_train)\n",
        "\n",
        "# Predict missing values\n",
        "test_data['A'] = model.predict(test_data[['B']])\n",
        "df_imputed = pd.concat([train_data, test_data])\n",
        "\n",
        "print(df_imputed)"
      ],
      "metadata": {
        "colab": {
          "base_uri": "https://localhost:8080/"
        },
        "id": "qRWapPBYALKW",
        "outputId": "07982a40-df9e-4a27-f2e7-70991b0ab3ce"
      },
      "execution_count": null,
      "outputs": [
        {
          "output_type": "stream",
          "name": "stdout",
          "text": [
            "      A  B\n",
            "0  1.00  5\n",
            "1  2.00  6\n",
            "3  4.00  8\n",
            "4  5.00  9\n",
            "2  2.43  7\n"
          ]
        },
        {
          "output_type": "stream",
          "name": "stderr",
          "text": [
            "<ipython-input-35-822b7bfde3ce>:12: SettingWithCopyWarning: \n",
            "A value is trying to be set on a copy of a slice from a DataFrame.\n",
            "Try using .loc[row_indexer,col_indexer] = value instead\n",
            "\n",
            "See the caveats in the documentation: https://pandas.pydata.org/pandas-docs/stable/user_guide/indexing.html#returning-a-view-versus-a-copy\n",
            "  test_data['A'] = model.predict(test_data[['B']])\n"
          ]
        }
      ]
    },
    {
      "cell_type": "markdown",
      "source": [
        "## **7. Dropping Missing Values**\n",
        "\n",
        "Si el conjunto de datos es grande y los valores faltantes son pocos, puedes eliminar filas o columnas con valores faltantes."
      ],
      "metadata": {
        "id": "bpPhQ3IMAfZu"
      }
    },
    {
      "cell_type": "code",
      "source": [
        "from sklearn.ensemble import RandomForestRegressor\n",
        "\n",
        "# Example DataFrame\n",
        "df = pd.DataFrame({\n",
        "    'A': [1, 2, np.nan, 4, 5, 8, 9, 10, 25, np.nan],\n",
        "    'B': [5, np.nan, 7, 8, 9, 8, 10, 12, np.nan, 20]\n",
        "})\n",
        "\n",
        "print(df)"
      ],
      "metadata": {
        "colab": {
          "base_uri": "https://localhost:8080/"
        },
        "id": "6m0qtieeAq3C",
        "outputId": "17b1469b-3305-4d96-bb1f-66790e505f3e"
      },
      "execution_count": null,
      "outputs": [
        {
          "output_type": "stream",
          "name": "stdout",
          "text": [
            "      A     B\n",
            "0   1.0   5.0\n",
            "1   2.0   NaN\n",
            "2   NaN   7.0\n",
            "3   4.0   8.0\n",
            "4   5.0   9.0\n",
            "5   8.0   8.0\n",
            "6   9.0  10.0\n",
            "7  10.0  12.0\n",
            "8  25.0   NaN\n",
            "9   NaN  20.0\n"
          ]
        }
      ]
    },
    {
      "cell_type": "code",
      "source": [
        "# Drop rows with any missing values\n",
        "df.dropna(axis=0, inplace=True)\n",
        "\n",
        "# Drop columns with any missing values\n",
        "df.dropna(axis=1, inplace=True)\n",
        "\n",
        "print(df)"
      ],
      "metadata": {
        "colab": {
          "base_uri": "https://localhost:8080/"
        },
        "id": "rOSIi0xhAg6H",
        "outputId": "4581bd68-7d9e-41a8-d0a8-76db15e85d54"
      },
      "execution_count": null,
      "outputs": [
        {
          "output_type": "stream",
          "name": "stdout",
          "text": [
            "      A     B\n",
            "0   1.0   5.0\n",
            "3   4.0   8.0\n",
            "4   5.0   9.0\n",
            "5   8.0   8.0\n",
            "6   9.0  10.0\n",
            "7  10.0  12.0\n"
          ]
        }
      ]
    },
    {
      "cell_type": "markdown",
      "source": [
        "**8. Custom Imputation**\n",
        "\n",
        "Puedes definir reglas personalizadas para la imputación basadas en conocimiento del dominio o requisitos específicos."
      ],
      "metadata": {
        "id": "zNkFR9fIA6Ux"
      }
    },
    {
      "cell_type": "code",
      "source": [
        "# DataFrame de ejemplo con valores faltantes\n",
        "df = pd.DataFrame({\n",
        "    'A': [1, 2, np.nan, 4, 5],\n",
        "    'B': ['X', 'Y', np.nan, 'Y', 'Z']\n",
        "})\n",
        "\n",
        "print(df)"
      ],
      "metadata": {
        "colab": {
          "base_uri": "https://localhost:8080/"
        },
        "id": "JJ20j0GdA-4s",
        "outputId": "537bbdb0-f937-44c2-9ecc-a43b6cafa15b"
      },
      "execution_count": null,
      "outputs": [
        {
          "output_type": "stream",
          "name": "stdout",
          "text": [
            "     A    B\n",
            "0  1.0    X\n",
            "1  2.0    Y\n",
            "2  NaN  NaN\n",
            "3  4.0    Y\n",
            "4  5.0    Z\n"
          ]
        }
      ]
    },
    {
      "cell_type": "code",
      "source": [
        "# Replace missing values with a specific value\n",
        "df['A'].fillna(0, inplace=True)\n",
        "\n",
        "df['B'].fillna(300, inplace=True)\n",
        "\n",
        "\n",
        "print(df)"
      ],
      "metadata": {
        "colab": {
          "base_uri": "https://localhost:8080/"
        },
        "id": "S02VFaAqA_SD",
        "outputId": "35b28011-98dc-484c-b360-02054f5d4e4a"
      },
      "execution_count": null,
      "outputs": [
        {
          "output_type": "stream",
          "name": "stdout",
          "text": [
            "     A    B\n",
            "0  1.0    X\n",
            "1  2.0    Y\n",
            "2  0.0  300\n",
            "3  4.0    Y\n",
            "4  5.0    Z\n"
          ]
        },
        {
          "output_type": "stream",
          "name": "stderr",
          "text": [
            "<ipython-input-71-70c918187fcf>:2: FutureWarning: A value is trying to be set on a copy of a DataFrame or Series through chained assignment using an inplace method.\n",
            "The behavior will change in pandas 3.0. This inplace method will never work because the intermediate object on which we are setting values always behaves as a copy.\n",
            "\n",
            "For example, when doing 'df[col].method(value, inplace=True)', try using 'df.method({col: value}, inplace=True)' or df[col] = df[col].method(value) instead, to perform the operation inplace on the original object.\n",
            "\n",
            "\n",
            "  df['A'].fillna(0, inplace=True)\n",
            "<ipython-input-71-70c918187fcf>:4: FutureWarning: A value is trying to be set on a copy of a DataFrame or Series through chained assignment using an inplace method.\n",
            "The behavior will change in pandas 3.0. This inplace method will never work because the intermediate object on which we are setting values always behaves as a copy.\n",
            "\n",
            "For example, when doing 'df[col].method(value, inplace=True)', try using 'df.method({col: value}, inplace=True)' or df[col] = df[col].method(value) instead, to perform the operation inplace on the original object.\n",
            "\n",
            "\n",
            "  df['B'].fillna(300, inplace=True)\n"
          ]
        }
      ]
    },
    {
      "cell_type": "code",
      "source": [],
      "metadata": {
        "id": "mOGxZR42GKuJ"
      },
      "execution_count": null,
      "outputs": []
    },
    {
      "cell_type": "markdown",
      "source": [
        "## **Resumen de Técnicas de Imputación bold text**\n",
        "\n",
        "¿Cómo Elegir la Técnica Correcta?\n",
        "\n",
        "* Datos Numéricos: Media, mediana, KNN, MICE o modelos predictivos.\n",
        "* Datos Categóricos: Moda o imputación personalizada.\n",
        "* Datos de Series Temporales: Relleno hacia adelante/atrás o interpolación.\n",
        "* Datos con Muchos Valores Faltantes: Considera eliminar filas/columnas o usar técnicas avanzadas como MICE."
      ],
      "metadata": {
        "id": "Y4aoXWuzF7yH"
      }
    },
    {
      "cell_type": "markdown",
      "source": [
        "# **Bonus**"
      ],
      "metadata": {
        "id": "qtKFH4FMGlNB"
      }
    },
    {
      "cell_type": "code",
      "source": [
        "import pandas as pd\n",
        "import numpy as np\n",
        "\n",
        "# Crear un DataFrame grande con 100,000 filas y 5 columnas\n",
        "np.random.seed(42)\n",
        "data = {\n",
        "    'A': np.random.rand(100000) * 100,  # Columna numérica\n",
        "    'B': np.random.randint(0, 100, 100000),  # Columna numérica\n",
        "    'C': np.random.choice(['X', 'Y', 'Z'], 100000),  # Columna categórica\n",
        "    'D': np.random.rand(100000) * 50,  # Columna numérica\n",
        "    'E': np.random.choice(['High', 'Medium', 'Low'], 100000)  # Columna categórica\n",
        "}\n",
        "\n",
        "df = pd.DataFrame(data)\n",
        "\n",
        "# Introducir valores faltantes aleatorios (10% de los datos)\n",
        "for col in df.columns:\n",
        "    df.loc[df.sample(frac=0.1).index, col] = np.nan\n",
        "\n",
        "df"
      ],
      "metadata": {
        "colab": {
          "base_uri": "https://localhost:8080/",
          "height": 424
        },
        "id": "MeY46BbWGpNq",
        "outputId": "fd718cd9-7463-46cc-b9f9-97e10efcf92a"
      },
      "execution_count": null,
      "outputs": [
        {
          "output_type": "execute_result",
          "data": {
            "text/plain": [
              "               A     B  C          D       E\n",
              "0      37.454012  97.0  Y  34.240082    High\n",
              "1      95.071431   NaN  X  18.835281     Low\n",
              "2      73.199394  61.0  Z  19.502415  Medium\n",
              "3      59.865848  78.0  X        NaN  Medium\n",
              "4      15.601864  56.0  Z  40.064303     Low\n",
              "...          ...   ... ..        ...     ...\n",
              "99995  79.230483  78.0  Y  17.175163    High\n",
              "99996        NaN  87.0  Y  49.740474  Medium\n",
              "99997  67.445341  31.0  Z  48.658054  Medium\n",
              "99998  49.944724   1.0  X  44.155290    High\n",
              "99999  38.990849  48.0  X  21.470192     Low\n",
              "\n",
              "[100000 rows x 5 columns]"
            ],
            "text/html": [
              "\n",
              "  <div id=\"df-dc902477-3913-4bfe-82f1-40f61e3e559a\" class=\"colab-df-container\">\n",
              "    <div>\n",
              "<style scoped>\n",
              "    .dataframe tbody tr th:only-of-type {\n",
              "        vertical-align: middle;\n",
              "    }\n",
              "\n",
              "    .dataframe tbody tr th {\n",
              "        vertical-align: top;\n",
              "    }\n",
              "\n",
              "    .dataframe thead th {\n",
              "        text-align: right;\n",
              "    }\n",
              "</style>\n",
              "<table border=\"1\" class=\"dataframe\">\n",
              "  <thead>\n",
              "    <tr style=\"text-align: right;\">\n",
              "      <th></th>\n",
              "      <th>A</th>\n",
              "      <th>B</th>\n",
              "      <th>C</th>\n",
              "      <th>D</th>\n",
              "      <th>E</th>\n",
              "    </tr>\n",
              "  </thead>\n",
              "  <tbody>\n",
              "    <tr>\n",
              "      <th>0</th>\n",
              "      <td>37.454012</td>\n",
              "      <td>97.0</td>\n",
              "      <td>Y</td>\n",
              "      <td>34.240082</td>\n",
              "      <td>High</td>\n",
              "    </tr>\n",
              "    <tr>\n",
              "      <th>1</th>\n",
              "      <td>95.071431</td>\n",
              "      <td>NaN</td>\n",
              "      <td>X</td>\n",
              "      <td>18.835281</td>\n",
              "      <td>Low</td>\n",
              "    </tr>\n",
              "    <tr>\n",
              "      <th>2</th>\n",
              "      <td>73.199394</td>\n",
              "      <td>61.0</td>\n",
              "      <td>Z</td>\n",
              "      <td>19.502415</td>\n",
              "      <td>Medium</td>\n",
              "    </tr>\n",
              "    <tr>\n",
              "      <th>3</th>\n",
              "      <td>59.865848</td>\n",
              "      <td>78.0</td>\n",
              "      <td>X</td>\n",
              "      <td>NaN</td>\n",
              "      <td>Medium</td>\n",
              "    </tr>\n",
              "    <tr>\n",
              "      <th>4</th>\n",
              "      <td>15.601864</td>\n",
              "      <td>56.0</td>\n",
              "      <td>Z</td>\n",
              "      <td>40.064303</td>\n",
              "      <td>Low</td>\n",
              "    </tr>\n",
              "    <tr>\n",
              "      <th>...</th>\n",
              "      <td>...</td>\n",
              "      <td>...</td>\n",
              "      <td>...</td>\n",
              "      <td>...</td>\n",
              "      <td>...</td>\n",
              "    </tr>\n",
              "    <tr>\n",
              "      <th>99995</th>\n",
              "      <td>79.230483</td>\n",
              "      <td>78.0</td>\n",
              "      <td>Y</td>\n",
              "      <td>17.175163</td>\n",
              "      <td>High</td>\n",
              "    </tr>\n",
              "    <tr>\n",
              "      <th>99996</th>\n",
              "      <td>NaN</td>\n",
              "      <td>87.0</td>\n",
              "      <td>Y</td>\n",
              "      <td>49.740474</td>\n",
              "      <td>Medium</td>\n",
              "    </tr>\n",
              "    <tr>\n",
              "      <th>99997</th>\n",
              "      <td>67.445341</td>\n",
              "      <td>31.0</td>\n",
              "      <td>Z</td>\n",
              "      <td>48.658054</td>\n",
              "      <td>Medium</td>\n",
              "    </tr>\n",
              "    <tr>\n",
              "      <th>99998</th>\n",
              "      <td>49.944724</td>\n",
              "      <td>1.0</td>\n",
              "      <td>X</td>\n",
              "      <td>44.155290</td>\n",
              "      <td>High</td>\n",
              "    </tr>\n",
              "    <tr>\n",
              "      <th>99999</th>\n",
              "      <td>38.990849</td>\n",
              "      <td>48.0</td>\n",
              "      <td>X</td>\n",
              "      <td>21.470192</td>\n",
              "      <td>Low</td>\n",
              "    </tr>\n",
              "  </tbody>\n",
              "</table>\n",
              "<p>100000 rows × 5 columns</p>\n",
              "</div>\n",
              "    <div class=\"colab-df-buttons\">\n",
              "\n",
              "  <div class=\"colab-df-container\">\n",
              "    <button class=\"colab-df-convert\" onclick=\"convertToInteractive('df-dc902477-3913-4bfe-82f1-40f61e3e559a')\"\n",
              "            title=\"Convert this dataframe to an interactive table.\"\n",
              "            style=\"display:none;\">\n",
              "\n",
              "  <svg xmlns=\"http://www.w3.org/2000/svg\" height=\"24px\" viewBox=\"0 -960 960 960\">\n",
              "    <path d=\"M120-120v-720h720v720H120Zm60-500h600v-160H180v160Zm220 220h160v-160H400v160Zm0 220h160v-160H400v160ZM180-400h160v-160H180v160Zm440 0h160v-160H620v160ZM180-180h160v-160H180v160Zm440 0h160v-160H620v160Z\"/>\n",
              "  </svg>\n",
              "    </button>\n",
              "\n",
              "  <style>\n",
              "    .colab-df-container {\n",
              "      display:flex;\n",
              "      gap: 12px;\n",
              "    }\n",
              "\n",
              "    .colab-df-convert {\n",
              "      background-color: #E8F0FE;\n",
              "      border: none;\n",
              "      border-radius: 50%;\n",
              "      cursor: pointer;\n",
              "      display: none;\n",
              "      fill: #1967D2;\n",
              "      height: 32px;\n",
              "      padding: 0 0 0 0;\n",
              "      width: 32px;\n",
              "    }\n",
              "\n",
              "    .colab-df-convert:hover {\n",
              "      background-color: #E2EBFA;\n",
              "      box-shadow: 0px 1px 2px rgba(60, 64, 67, 0.3), 0px 1px 3px 1px rgba(60, 64, 67, 0.15);\n",
              "      fill: #174EA6;\n",
              "    }\n",
              "\n",
              "    .colab-df-buttons div {\n",
              "      margin-bottom: 4px;\n",
              "    }\n",
              "\n",
              "    [theme=dark] .colab-df-convert {\n",
              "      background-color: #3B4455;\n",
              "      fill: #D2E3FC;\n",
              "    }\n",
              "\n",
              "    [theme=dark] .colab-df-convert:hover {\n",
              "      background-color: #434B5C;\n",
              "      box-shadow: 0px 1px 3px 1px rgba(0, 0, 0, 0.15);\n",
              "      filter: drop-shadow(0px 1px 2px rgba(0, 0, 0, 0.3));\n",
              "      fill: #FFFFFF;\n",
              "    }\n",
              "  </style>\n",
              "\n",
              "    <script>\n",
              "      const buttonEl =\n",
              "        document.querySelector('#df-dc902477-3913-4bfe-82f1-40f61e3e559a button.colab-df-convert');\n",
              "      buttonEl.style.display =\n",
              "        google.colab.kernel.accessAllowed ? 'block' : 'none';\n",
              "\n",
              "      async function convertToInteractive(key) {\n",
              "        const element = document.querySelector('#df-dc902477-3913-4bfe-82f1-40f61e3e559a');\n",
              "        const dataTable =\n",
              "          await google.colab.kernel.invokeFunction('convertToInteractive',\n",
              "                                                    [key], {});\n",
              "        if (!dataTable) return;\n",
              "\n",
              "        const docLinkHtml = 'Like what you see? Visit the ' +\n",
              "          '<a target=\"_blank\" href=https://colab.research.google.com/notebooks/data_table.ipynb>data table notebook</a>'\n",
              "          + ' to learn more about interactive tables.';\n",
              "        element.innerHTML = '';\n",
              "        dataTable['output_type'] = 'display_data';\n",
              "        await google.colab.output.renderOutput(dataTable, element);\n",
              "        const docLink = document.createElement('div');\n",
              "        docLink.innerHTML = docLinkHtml;\n",
              "        element.appendChild(docLink);\n",
              "      }\n",
              "    </script>\n",
              "  </div>\n",
              "\n",
              "\n",
              "<div id=\"df-84651466-a89b-474b-8c99-44b46432f2f9\">\n",
              "  <button class=\"colab-df-quickchart\" onclick=\"quickchart('df-84651466-a89b-474b-8c99-44b46432f2f9')\"\n",
              "            title=\"Suggest charts\"\n",
              "            style=\"display:none;\">\n",
              "\n",
              "<svg xmlns=\"http://www.w3.org/2000/svg\" height=\"24px\"viewBox=\"0 0 24 24\"\n",
              "     width=\"24px\">\n",
              "    <g>\n",
              "        <path d=\"M19 3H5c-1.1 0-2 .9-2 2v14c0 1.1.9 2 2 2h14c1.1 0 2-.9 2-2V5c0-1.1-.9-2-2-2zM9 17H7v-7h2v7zm4 0h-2V7h2v10zm4 0h-2v-4h2v4z\"/>\n",
              "    </g>\n",
              "</svg>\n",
              "  </button>\n",
              "\n",
              "<style>\n",
              "  .colab-df-quickchart {\n",
              "      --bg-color: #E8F0FE;\n",
              "      --fill-color: #1967D2;\n",
              "      --hover-bg-color: #E2EBFA;\n",
              "      --hover-fill-color: #174EA6;\n",
              "      --disabled-fill-color: #AAA;\n",
              "      --disabled-bg-color: #DDD;\n",
              "  }\n",
              "\n",
              "  [theme=dark] .colab-df-quickchart {\n",
              "      --bg-color: #3B4455;\n",
              "      --fill-color: #D2E3FC;\n",
              "      --hover-bg-color: #434B5C;\n",
              "      --hover-fill-color: #FFFFFF;\n",
              "      --disabled-bg-color: #3B4455;\n",
              "      --disabled-fill-color: #666;\n",
              "  }\n",
              "\n",
              "  .colab-df-quickchart {\n",
              "    background-color: var(--bg-color);\n",
              "    border: none;\n",
              "    border-radius: 50%;\n",
              "    cursor: pointer;\n",
              "    display: none;\n",
              "    fill: var(--fill-color);\n",
              "    height: 32px;\n",
              "    padding: 0;\n",
              "    width: 32px;\n",
              "  }\n",
              "\n",
              "  .colab-df-quickchart:hover {\n",
              "    background-color: var(--hover-bg-color);\n",
              "    box-shadow: 0 1px 2px rgba(60, 64, 67, 0.3), 0 1px 3px 1px rgba(60, 64, 67, 0.15);\n",
              "    fill: var(--button-hover-fill-color);\n",
              "  }\n",
              "\n",
              "  .colab-df-quickchart-complete:disabled,\n",
              "  .colab-df-quickchart-complete:disabled:hover {\n",
              "    background-color: var(--disabled-bg-color);\n",
              "    fill: var(--disabled-fill-color);\n",
              "    box-shadow: none;\n",
              "  }\n",
              "\n",
              "  .colab-df-spinner {\n",
              "    border: 2px solid var(--fill-color);\n",
              "    border-color: transparent;\n",
              "    border-bottom-color: var(--fill-color);\n",
              "    animation:\n",
              "      spin 1s steps(1) infinite;\n",
              "  }\n",
              "\n",
              "  @keyframes spin {\n",
              "    0% {\n",
              "      border-color: transparent;\n",
              "      border-bottom-color: var(--fill-color);\n",
              "      border-left-color: var(--fill-color);\n",
              "    }\n",
              "    20% {\n",
              "      border-color: transparent;\n",
              "      border-left-color: var(--fill-color);\n",
              "      border-top-color: var(--fill-color);\n",
              "    }\n",
              "    30% {\n",
              "      border-color: transparent;\n",
              "      border-left-color: var(--fill-color);\n",
              "      border-top-color: var(--fill-color);\n",
              "      border-right-color: var(--fill-color);\n",
              "    }\n",
              "    40% {\n",
              "      border-color: transparent;\n",
              "      border-right-color: var(--fill-color);\n",
              "      border-top-color: var(--fill-color);\n",
              "    }\n",
              "    60% {\n",
              "      border-color: transparent;\n",
              "      border-right-color: var(--fill-color);\n",
              "    }\n",
              "    80% {\n",
              "      border-color: transparent;\n",
              "      border-right-color: var(--fill-color);\n",
              "      border-bottom-color: var(--fill-color);\n",
              "    }\n",
              "    90% {\n",
              "      border-color: transparent;\n",
              "      border-bottom-color: var(--fill-color);\n",
              "    }\n",
              "  }\n",
              "</style>\n",
              "\n",
              "  <script>\n",
              "    async function quickchart(key) {\n",
              "      const quickchartButtonEl =\n",
              "        document.querySelector('#' + key + ' button');\n",
              "      quickchartButtonEl.disabled = true;  // To prevent multiple clicks.\n",
              "      quickchartButtonEl.classList.add('colab-df-spinner');\n",
              "      try {\n",
              "        const charts = await google.colab.kernel.invokeFunction(\n",
              "            'suggestCharts', [key], {});\n",
              "      } catch (error) {\n",
              "        console.error('Error during call to suggestCharts:', error);\n",
              "      }\n",
              "      quickchartButtonEl.classList.remove('colab-df-spinner');\n",
              "      quickchartButtonEl.classList.add('colab-df-quickchart-complete');\n",
              "    }\n",
              "    (() => {\n",
              "      let quickchartButtonEl =\n",
              "        document.querySelector('#df-84651466-a89b-474b-8c99-44b46432f2f9 button');\n",
              "      quickchartButtonEl.style.display =\n",
              "        google.colab.kernel.accessAllowed ? 'block' : 'none';\n",
              "    })();\n",
              "  </script>\n",
              "</div>\n",
              "\n",
              "  <div id=\"id_4d7cfd32-bb06-40c7-81c0-3c20a6486f7b\">\n",
              "    <style>\n",
              "      .colab-df-generate {\n",
              "        background-color: #E8F0FE;\n",
              "        border: none;\n",
              "        border-radius: 50%;\n",
              "        cursor: pointer;\n",
              "        display: none;\n",
              "        fill: #1967D2;\n",
              "        height: 32px;\n",
              "        padding: 0 0 0 0;\n",
              "        width: 32px;\n",
              "      }\n",
              "\n",
              "      .colab-df-generate:hover {\n",
              "        background-color: #E2EBFA;\n",
              "        box-shadow: 0px 1px 2px rgba(60, 64, 67, 0.3), 0px 1px 3px 1px rgba(60, 64, 67, 0.15);\n",
              "        fill: #174EA6;\n",
              "      }\n",
              "\n",
              "      [theme=dark] .colab-df-generate {\n",
              "        background-color: #3B4455;\n",
              "        fill: #D2E3FC;\n",
              "      }\n",
              "\n",
              "      [theme=dark] .colab-df-generate:hover {\n",
              "        background-color: #434B5C;\n",
              "        box-shadow: 0px 1px 3px 1px rgba(0, 0, 0, 0.15);\n",
              "        filter: drop-shadow(0px 1px 2px rgba(0, 0, 0, 0.3));\n",
              "        fill: #FFFFFF;\n",
              "      }\n",
              "    </style>\n",
              "    <button class=\"colab-df-generate\" onclick=\"generateWithVariable('df')\"\n",
              "            title=\"Generate code using this dataframe.\"\n",
              "            style=\"display:none;\">\n",
              "\n",
              "  <svg xmlns=\"http://www.w3.org/2000/svg\" height=\"24px\"viewBox=\"0 0 24 24\"\n",
              "       width=\"24px\">\n",
              "    <path d=\"M7,19H8.4L18.45,9,17,7.55,7,17.6ZM5,21V16.75L18.45,3.32a2,2,0,0,1,2.83,0l1.4,1.43a1.91,1.91,0,0,1,.58,1.4,1.91,1.91,0,0,1-.58,1.4L9.25,21ZM18.45,9,17,7.55Zm-12,3A5.31,5.31,0,0,0,4.9,8.1,5.31,5.31,0,0,0,1,6.5,5.31,5.31,0,0,0,4.9,4.9,5.31,5.31,0,0,0,6.5,1,5.31,5.31,0,0,0,8.1,4.9,5.31,5.31,0,0,0,12,6.5,5.46,5.46,0,0,0,6.5,12Z\"/>\n",
              "  </svg>\n",
              "    </button>\n",
              "    <script>\n",
              "      (() => {\n",
              "      const buttonEl =\n",
              "        document.querySelector('#id_4d7cfd32-bb06-40c7-81c0-3c20a6486f7b button.colab-df-generate');\n",
              "      buttonEl.style.display =\n",
              "        google.colab.kernel.accessAllowed ? 'block' : 'none';\n",
              "\n",
              "      buttonEl.onclick = () => {\n",
              "        google.colab.notebook.generateWithVariable('df');\n",
              "      }\n",
              "      })();\n",
              "    </script>\n",
              "  </div>\n",
              "\n",
              "    </div>\n",
              "  </div>\n"
            ],
            "application/vnd.google.colaboratory.intrinsic+json": {
              "type": "dataframe",
              "variable_name": "df",
              "summary": "{\n  \"name\": \"df\",\n  \"rows\": 100000,\n  \"fields\": [\n    {\n      \"column\": \"A\",\n      \"properties\": {\n        \"dtype\": \"number\",\n        \"std\": 28.82535892068156,\n        \"min\": 0.0005536675737993768,\n        \"max\": 99.9992042302966,\n        \"num_unique_values\": 90000,\n        \"samples\": [\n          84.75547213559975,\n          30.580258244947878,\n          97.85919802425558\n        ],\n        \"semantic_type\": \"\",\n        \"description\": \"\"\n      }\n    },\n    {\n      \"column\": \"B\",\n      \"properties\": {\n        \"dtype\": \"number\",\n        \"std\": 28.847358912025793,\n        \"min\": 0.0,\n        \"max\": 99.0,\n        \"num_unique_values\": 100,\n        \"samples\": [\n          2.0,\n          76.0,\n          28.0\n        ],\n        \"semantic_type\": \"\",\n        \"description\": \"\"\n      }\n    },\n    {\n      \"column\": \"C\",\n      \"properties\": {\n        \"dtype\": \"category\",\n        \"num_unique_values\": 3,\n        \"samples\": [\n          \"Y\",\n          \"X\",\n          \"Z\"\n        ],\n        \"semantic_type\": \"\",\n        \"description\": \"\"\n      }\n    },\n    {\n      \"column\": \"D\",\n      \"properties\": {\n        \"dtype\": \"number\",\n        \"std\": 14.428852191994324,\n        \"min\": 0.00011136478536011296,\n        \"max\": 49.99973046280853,\n        \"num_unique_values\": 90000,\n        \"samples\": [\n          5.317166374106408,\n          17.66937179819034,\n          49.19241979988334\n        ],\n        \"semantic_type\": \"\",\n        \"description\": \"\"\n      }\n    },\n    {\n      \"column\": \"E\",\n      \"properties\": {\n        \"dtype\": \"category\",\n        \"num_unique_values\": 3,\n        \"samples\": [\n          \"High\",\n          \"Low\",\n          \"Medium\"\n        ],\n        \"semantic_type\": \"\",\n        \"description\": \"\"\n      }\n    }\n  ]\n}"
            }
          },
          "metadata": {},
          "execution_count": 73
        }
      ]
    },
    {
      "cell_type": "code",
      "source": [
        "print(\"DataFrame con valores faltantes:\")\n",
        "print(df.head())\n"
      ],
      "metadata": {
        "colab": {
          "base_uri": "https://localhost:8080/"
        },
        "id": "IrMqiUncG4Bp",
        "outputId": "b661db84-97e4-424e-9da1-4321bd1f1f03"
      },
      "execution_count": null,
      "outputs": [
        {
          "output_type": "stream",
          "name": "stdout",
          "text": [
            "DataFrame con valores faltantes:\n",
            "           A     B  C          D       E\n",
            "0  37.454012  97.0  Y  34.240082    High\n",
            "1  95.071431   NaN  X  18.835281     Low\n",
            "2  73.199394  61.0  Z  19.502415  Medium\n",
            "3  59.865848  78.0  X        NaN  Medium\n",
            "4  15.601864  56.0  Z  40.064303     Low\n"
          ]
        }
      ]
    },
    {
      "cell_type": "code",
      "source": [
        "print(\"\\nCantidad de valores faltantes por columna:\")\n",
        "print(df.isnull().sum())"
      ],
      "metadata": {
        "colab": {
          "base_uri": "https://localhost:8080/"
        },
        "id": "ChL4sRnAHPoh",
        "outputId": "c3a70ad6-bde0-4a45-e3ed-f525584d5618"
      },
      "execution_count": null,
      "outputs": [
        {
          "output_type": "stream",
          "name": "stdout",
          "text": [
            "\n",
            "Cantidad de valores faltantes por columna:\n",
            "A    10000\n",
            "B    10000\n",
            "C    10000\n",
            "D    10000\n",
            "E    10000\n",
            "dtype: int64\n"
          ]
        }
      ]
    },
    {
      "cell_type": "code",
      "source": [
        "import warnings\n",
        "\n",
        "# Desactivar todas las advertencias\n",
        "warnings.filterwarnings('ignore')\n",
        "\n",
        "# Imputación con Media para columnas numéricas\n",
        "df['A'].fillna(df['A'].mean(), inplace=True)  # Imputar con la media de la columna A\n",
        "df['B'].fillna(df['B'].mean(), inplace=True)  # Imputar con la media de la columna B\n",
        "df['D'].fillna(df['D'].mean(), inplace=True)  # Imputar con la media de la columna D\n",
        "\n",
        "# Imputación con Mediana para columnas numéricas (opcional)\n",
        "# df['A'].fillna(df['A'].median(), inplace=True)  # Imputar con la mediana de la columna A\n",
        "\n",
        "# Imputación con Moda para columnas categóricas\n",
        "df['C'].fillna(df['C'].mode()[0], inplace=True)  # Imputar con la moda de la columna C\n",
        "df['E'].fillna(df['E'].mode()[0], inplace=True)  # Imputar con la moda de la columna E\n",
        "\n",
        "print(\"\\nDataFrame después de la imputación:\")\n",
        "print(df.head())\n"
      ],
      "metadata": {
        "colab": {
          "base_uri": "https://localhost:8080/"
        },
        "id": "eXATzpN0HUMQ",
        "outputId": "120e7b10-1f55-4ba4-e1c6-6d83e01bdbde"
      },
      "execution_count": null,
      "outputs": [
        {
          "output_type": "stream",
          "name": "stdout",
          "text": [
            "\n",
            "DataFrame después de la imputación:\n",
            "           A          B  C          D       E\n",
            "0  37.454012  97.000000  Y  34.240082    High\n",
            "1  95.071431  49.415956  X  18.835281     Low\n",
            "2  73.199394  61.000000  Z  19.502415  Medium\n",
            "3  59.865848  78.000000  X  24.969541  Medium\n",
            "4  15.601864  56.000000  Z  40.064303     Low\n"
          ]
        }
      ]
    },
    {
      "cell_type": "code",
      "source": [
        "print(\"\\nCantidad de valores faltantes por columna después de la imputación:\")\n",
        "print(df.isnull().sum())"
      ],
      "metadata": {
        "colab": {
          "base_uri": "https://localhost:8080/"
        },
        "id": "RQZVFPcPHfyB",
        "outputId": "d96c8eea-f2a1-4dd3-82ba-df33f5059399"
      },
      "execution_count": null,
      "outputs": [
        {
          "output_type": "stream",
          "name": "stdout",
          "text": [
            "\n",
            "Cantidad de valores faltantes por columna después de la imputación:\n",
            "A    0\n",
            "B    0\n",
            "C    0\n",
            "D    0\n",
            "E    0\n",
            "dtype: int64\n"
          ]
        }
      ]
    },
    {
      "cell_type": "code",
      "source": [
        "import pandas as pd\n",
        "import numpy as np\n",
        "import matplotlib.pyplot as plt\n",
        "\n",
        "# Crear un DataFrame grande con 100,000 filas y 3 columnas\n",
        "np.random.seed(42)\n",
        "data = {\n",
        "    'A': np.random.rand(100000) * 100,  # Columna numérica\n",
        "    'B': np.random.randint(0, 100, 100000),  # Columna numérica\n",
        "    'C': np.random.choice(['X', 'Y', 'Z'], 100000)  # Columna categórica\n",
        "}\n",
        "\n",
        "df = pd.DataFrame(data)\n",
        "\n",
        "# Introducir valores faltantes aleatorios (10% de los datos)\n",
        "for col in df.columns:\n",
        "    df.loc[df.sample(frac=0.1).index, col] = np.nan\n",
        "\n",
        "print(\"DataFrame con valores faltantes:\")\n",
        "print(df.head())\n",
        "print(\"\\nCantidad de valores faltantes por columna:\")\n",
        "print(df.isnull().sum())\n",
        "\n",
        "# Función para graficar distribuciones\n",
        "def plot_distribution(df, col, title):\n",
        "    plt.figure(figsize=(10, 6))\n",
        "    if df[col].dtype == 'object':  # Para columnas categóricas\n",
        "        df[col].value_counts().plot(kind='bar', color='skyblue')\n",
        "    else:  # Para columnas numéricas\n",
        "        df[col].plot(kind='hist', bins=30, color='skyblue', edgecolor='black')\n",
        "    plt.title(title)\n",
        "    plt.xlabel(col)\n",
        "    plt.ylabel('Frecuencia')\n",
        "    plt.grid(axis='y', linestyle='--', alpha=0.7)\n",
        "    plt.show()\n",
        "\n",
        "# Graficar distribuciones antes de la imputación\n",
        "print(\"\\nDistribuciones antes de la imputación:\")\n",
        "plot_distribution(df, 'A', 'Distribución de A (Antes de la Imputación)')\n",
        "plot_distribution(df, 'B', 'Distribución de B (Antes de la Imputación)')\n",
        "plot_distribution(df, 'C', 'Distribución de C (Antes de la Imputación)')\n",
        "\n",
        "# Imputación con Media, Mediana y Moda\n",
        "df['A'].fillna(df['A'].mean(), inplace=True)  # Imputar con la media de la columna A\n",
        "df['B'].fillna(df['B'].median(), inplace=True)  # Imputar con la mediana de la columna B\n",
        "df['C'].fillna(df['C'].mode()[0], inplace=True)  # Imputar con la moda de la columna C\n",
        "\n",
        "# Graficar distribuciones después de la imputación\n",
        "print(\"\\nDistribuciones después de la imputación:\")\n",
        "plot_distribution(df, 'A', 'Distribución de A (Después de la Imputación)')\n",
        "plot_distribution(df, 'B', 'Distribución de B (Después de la Imputación)')\n",
        "plot_distribution(df, 'C', 'Distribución de C (Después de la Imputación)')"
      ],
      "metadata": {
        "colab": {
          "base_uri": "https://localhost:8080/",
          "height": 1000
        },
        "id": "Q4EsLr1vJHpE",
        "outputId": "72b86573-d178-4938-855e-e116db0021a4"
      },
      "execution_count": null,
      "outputs": [
        {
          "output_type": "stream",
          "name": "stdout",
          "text": [
            "DataFrame con valores faltantes:\n",
            "           A     B  C\n",
            "0  37.454012   NaN  Y\n",
            "1  95.071431  71.0  X\n",
            "2  73.199394   NaN  Z\n",
            "3  59.865848  78.0  X\n",
            "4  15.601864  56.0  Z\n",
            "\n",
            "Cantidad de valores faltantes por columna:\n",
            "A    10000\n",
            "B    10000\n",
            "C    10000\n",
            "dtype: int64\n",
            "\n",
            "Distribuciones antes de la imputación:\n"
          ]
        },
        {
          "output_type": "display_data",
          "data": {
            "text/plain": [
              "<Figure size 1000x600 with 1 Axes>"
            ],
            "image/png": "[encoded data removed]"
          },
          "metadata": {}
        },
        {
          "output_type": "display_data",
          "data": {
            "text/plain": [
              "<Figure size 1000x600 with 1 Axes>"
            ],
            "image/png": "[encoded data removed]"
          },
          "metadata": {}
        },
        {
          "output_type": "display_data",
          "data": {
            "text/plain": [
              "<Figure size 1000x600 with 1 Axes>"
            ],
            "image/png": "[encoded data removed]"
          },
          "metadata": {}
        },
        {
          "output_type": "stream",
          "name": "stdout",
          "text": [
            "\n",
            "Distribuciones después de la imputación:\n"
          ]
        },
        {
          "output_type": "display_data",
          "data": {
            "text/plain": [
              "<Figure size 1000x600 with 1 Axes>"
            ],
            "image/png": "[encoded data removed]"
          },
          "metadata": {}
        },
        {
          "output_type": "display_data",
          "data": {
            "text/plain": [
              "<Figure size 1000x600 with 1 Axes>"
            ],
            "image/png": "[encoded data removed]"
          },
          "metadata": {}
        },
        {
          "output_type": "display_data",
          "data": {
            "text/plain": [
              "<Figure size 1000x600 with 1 Axes>"
            ],
            "image/png": "[encoded data removed]"
          },
          "metadata": {}
        }
      ]
    }
  ]
}